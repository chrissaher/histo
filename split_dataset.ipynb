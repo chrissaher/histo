{
 "cells": [
  {
   "cell_type": "code",
   "execution_count": 72,
   "metadata": {},
   "outputs": [],
   "source": [
    "import os\n",
    "import numpy as np\n",
    "import random"
   ]
  },
  {
   "cell_type": "code",
   "execution_count": 64,
   "metadata": {},
   "outputs": [],
   "source": [
    "train_path = \"./train_full\"\n",
    "anno_path = \"./annotations_full\"\n",
    "out_path = \"./data\"\n",
    "images = sorted(os.listdir(train_path))\n",
    "with open(os.path.join(anno_path, \"train_labels.csv\"), \"r\") as f:\n",
    "    annotations = f.read().splitlines()[1:]\n",
    "    \n",
    "annotations = [x.split(\",\") for x in annotations]\n",
    "anno_dict = dict()\n",
    "for key,val in annotations:\n",
    "    anno_dict[key] = int(val)"
   ]
  },
  {
   "cell_type": "code",
   "execution_count": 66,
   "metadata": {},
   "outputs": [
    {
     "name": "stdout",
     "output_type": "stream",
     "text": [
      "train len:  198022\n",
      "val len:  22003\n",
      "total len:  220025\n",
      "annotation len:  220025\n"
     ]
    }
   ],
   "source": [
    "train_len = int(len(images) * 0.9)\n",
    "val_len = len(images) - train_len\n",
    "print(\"train len: \", train_len)\n",
    "print(\"val len: \", val_len)\n",
    "print(\"total len: \", len(images))\n",
    "print(\"annotation len: \", len(annotations))"
   ]
  },
  {
   "cell_type": "code",
   "execution_count": 67,
   "metadata": {},
   "outputs": [
    {
     "name": "stdout",
     "output_type": "stream",
     "text": [
      "key:  f38a6374c348f90b587e046aac6079959adf3835  val:  0\n",
      "key:  c18f2d887b7ae4f6742ee445113fa1aef383ed77  val:  1\n",
      "key:  755db6279dae599ebb4d39a9123cce439965282d  val:  0\n",
      "key:  bc3f0c64fb968ff4a8bd33af6971ecae77c75e08  val:  0\n",
      "key:  068aba587a4950175d04c680d38943fd488d6a9d  val:  0\n"
     ]
    }
   ],
   "source": [
    "for i in range(5):\n",
    "    print(\"key: \", annotations[i][0], \" val: \", anno_dict[annotations[i][0]])"
   ]
  },
  {
   "cell_type": "code",
   "execution_count": 68,
   "metadata": {},
   "outputs": [],
   "source": [
    "# shuffle array\n",
    "random.shuffle(images)"
   ]
  },
  {
   "cell_type": "code",
   "execution_count": 69,
   "metadata": {},
   "outputs": [],
   "source": [
    "# train\n",
    "path = os.path.join(out_path, \"train.txt\")\n",
    "line = \"{},{}\\n\"\n",
    "with open(path, \"w\") as f:\n",
    "    for img in images[:train_len]: \n",
    "        p = os.path.join(\"train_path\", img)\n",
    "        label = anno_dict[img.split(\".\")[0]]\n",
    "        f.write(line.format(p, label))"
   ]
  },
  {
   "cell_type": "code",
   "execution_count": 70,
   "metadata": {},
   "outputs": [],
   "source": [
    "# val\n",
    "path = os.path.join(out_path, \"val.txt\")\n",
    "line = \"{},{}\\n\"\n",
    "with open(path, \"w\") as f:\n",
    "    for img in images[train_len:]: \n",
    "        p = os.path.join(\"train_path\", img)\n",
    "        label = anno_dict[img.split(\".\")[0]]\n",
    "        f.write(line.format(p, label))"
   ]
  }
 ],
 "metadata": {
  "kernelspec": {
   "display_name": "Python 3",
   "language": "python",
   "name": "python3"
  },
  "language_info": {
   "codemirror_mode": {
    "name": "ipython",
    "version": 3
   },
   "file_extension": ".py",
   "mimetype": "text/x-python",
   "name": "python",
   "nbconvert_exporter": "python",
   "pygments_lexer": "ipython3",
   "version": "3.6.1"
  }
 },
 "nbformat": 4,
 "nbformat_minor": 2
}
